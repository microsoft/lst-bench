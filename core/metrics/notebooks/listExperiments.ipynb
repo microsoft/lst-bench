{
 "cells": [
  {
   "cell_type": "code",
   "execution_count": null,
   "metadata": {},
   "outputs": [],
   "source": [
    "import duckdb\n",
    "import os\n",
    "import sys\n",
    "\n",
    "directory_path = os.path.abspath(os.path.join('../utils/'))\n",
    "if directory_path not in sys.path:\n",
    "    sys.path.append(directory_path)\n",
    "from constant import *"
   ]
  },
  {
   "cell_type": "code",
   "execution_count": null,
   "metadata": {},
   "outputs": [],
   "source": [
    "# Connect to database.\n",
    "con = duckdb.connect(database=DUCKDB_PATH, read_only=True)\n",
    "\n",
    "print(con.execute(\n",
    "        \"SELECT distinct event_id, event_start_time, event_status FROM experiment_telemetry WHERE event_type='EXEC_EXPERIMENT';\").df())"
   ]
  }
 ],
 "metadata": {
  "kernelspec": {
   "display_name": "base",
   "language": "python",
   "name": "python3"
  },
  "language_info": {
   "codemirror_mode": {
    "name": "ipython",
    "version": 3
   },
   "file_extension": ".py",
   "mimetype": "text/x-python",
   "name": "python",
   "nbconvert_exporter": "python",
   "pygments_lexer": "ipython3",
   "version": "3.9.7"
  },
  "orig_nbformat": 4
 },
 "nbformat": 4,
 "nbformat_minor": 2
}
