{
 "cells": [
  {
   "cell_type": "code",
   "execution_count": null,
   "metadata": {},
   "outputs": [],
   "source": [
    "import duckdb\n",
    "import matplotlib.pyplot as plt\n",
    "import os\n",
    "import pandas as pd\n",
    "import seaborn as sns\n",
    "import sys\n",
    "\n",
    "directory_path = os.path.abspath(os.path.join('../utils/'))\n",
    "if directory_path not in sys.path:\n",
    "    sys.path.append(directory_path)\n",
    "from functions import *\n",
    "\n",
    "# Experiment parameters, need to be set before running this notebook.\n",
    "EXPERIMENT_ID = \"\"\n",
    "EXPERIMENT_START_TIME = \"\"\n",
    "EVENT_IDS = [\"\"]\n",
    "\n",
    "# Path to the storage folder where the experiment table(s) where stored.\n",
    "CLUSTER_NAME = \"\"\n",
    "# Storage type that metrics should be extracted from, currently supported is 'AZURE'\n",
    "CLUSTER_TYPE = \"\"\n",
    "# Determines which metric to display, currently supported are 'cpu', 'gb_read', and 'gb_written'\n",
    "METRIC = \"\""
   ]
  },
  {
   "cell_type": "code",
   "execution_count": null,
   "metadata": {},
   "outputs": [],
   "source": [
    "# --- Create DB connection --- #\n",
    "con = duckdb.connect(database=DUCKDB_PATH, read_only=True)"
   ]
  },
  {
   "cell_type": "code",
   "execution_count": null,
   "metadata": {},
   "outputs": [],
   "source": [
    "# --- Data manipulations --- #\n",
    "\n",
    "# Retrieve relevant data from duckdb.\n",
    "EXP_DATA = retrieve_experiment_df(con, EXPERIMENT_ID, EXPERIMENT_START_TIME)\n",
    "\n",
    "# Remove superfluous entries from dataframe.\n",
    "EXP_DATA = filterByEventIds(EXP_DATA, EVENT_IDS)"
   ]
  },
  {
   "cell_type": "code",
   "execution_count": null,
   "metadata": {},
   "outputs": [],
   "source": [
    "# --- Cluster metrics extraction --- #\n",
    "cluster_metrics = get_cluster_metrics(CLUSTER_TYPE, EXP_DATA, CLUSTER_NAME)\n",
    "cluster_metrics.fetch_metrics()"
   ]
  },
  {
   "cell_type": "code",
   "execution_count": null,
   "metadata": {},
   "outputs": [],
   "source": [
    "# --- Plot the data --- #\n",
    "sns.set(rc={'figure.figsize':(20,6)})\n",
    "sns.set(font_scale=2)\n",
    "plt.tick_params(axis='x',which='both',bottom=False,top=False,labelbottom=False)\n",
    "\n",
    "sns.lineplot(x = \"TimeGenerated\", y=METRIC, hue='event_id', data=cluster_metrics.get_df())\n",
    "plt.legend(loc='upper left')\n",
    "plt.ylabel(cluster_metrics.get_label(METRIC))\n",
    "\n",
    "# Adjust y-axis when showing CPU utilization.\n",
    "if (METRIC==\"cpu\"):\n",
    "    ax = plt.gca()\n",
    "    ax.set_ylim([0, 100])"
   ]
  }
 ],
 "metadata": {
  "kernelspec": {
   "display_name": "Python 3",
   "language": "python",
   "name": "python3"
  },
  "language_info": {
   "codemirror_mode": {
    "name": "ipython",
    "version": 3
   },
   "file_extension": ".py",
   "mimetype": "text/x-python",
   "name": "python",
   "nbconvert_exporter": "python",
   "pygments_lexer": "ipython3",
   "version": "3.9.7"
  },
  "orig_nbformat": 4
 },
 "nbformat": 4,
 "nbformat_minor": 2
}
