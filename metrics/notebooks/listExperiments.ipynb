{
 "cells": [
  {
   "cell_type": "code",
   "execution_count": null,
   "metadata": {},
   "outputs": [],
   "source": [
    "import duckdb\n",
    "import os\n",
    "import sys\n",
    "\n",
    "directory_path = os.path.abspath(os.path.join('../utils/'))\n",
    "if directory_path not in sys.path:\n",
    "    sys.path.append(directory_path)\n",
    "from functions import *\n",
    "from constant import *"
   ]
  },
  {
   "cell_type": "code",
   "execution_count": null,
   "metadata": {},
   "outputs": [],
   "source": [
    "# Connect to database.\n",
    "con = duckdb.connect(database=DUCKDB_PATH, read_only=True)\n",
    "\n",
    "print(con.execute(\n",
    "        \"SELECT distinct event_id, event_start_time, event_status FROM experiment_telemetry WHERE event_type='EXEC_EXPERIMENT';\").df())"
   ]
  }
 ],
 "metadata": {
  "language_info": {
   "name": "python"
  },
  "orig_nbformat": 4
 },
 "nbformat": 4,
 "nbformat_minor": 2
}
