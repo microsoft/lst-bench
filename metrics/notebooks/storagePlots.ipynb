{
 "cells": [
  {
   "cell_type": "code",
   "execution_count": null,
   "metadata": {},
   "outputs": [],
   "source": [
    "import duckdb\n",
    "import matplotlib.pyplot as plt\n",
    "import os\n",
    "import pandas as pd\n",
    "import seaborn as sns\n",
    "import sys\n",
    "\n",
    "directory_path = os.path.abspath(os.path.join('../utils/'))\n",
    "if directory_path not in sys.path:\n",
    "    sys.path.append(directory_path)\n",
    "from functions import *\n",
    "from constant import *\n",
    "\n",
    "# Experiment parameters, need to be set before running this notebook.\n",
    "EXPERIMENT_ID = [\"\"]\n",
    "EXPERIMENT_START_TIME = [\"\"]\n",
    "EVENT_IDS = [\"\"]\n",
    "\n",
    "# Path to the storage folder where the experiment table(s) where stored.\n",
    "STORAGE_PATH = \"\"\n",
    "# Storage type that metrics should be extracted from, currently supported is 'AZURE'\n",
    "STORAGE_TYPE = \"\"\n",
    "# Determines which metric to display, currently supported are 'io_gb' and 'api_calls'\n",
    "METRIC = \"\""
   ]
  },
  {
   "cell_type": "code",
   "execution_count": null,
   "metadata": {},
   "outputs": [],
   "source": [
    "# --- Check input validity and create DB connection --- #\n",
    "\n",
    "assert len(EXPERIMENT_ID)==len(EXPERIMENT_START_TIME)\n",
    "\n",
    "# Connect to database.\n",
    "con = duckdb.connect(database=DUCKDB_PATH, read_only=True)"
   ]
  },
  {
   "cell_type": "code",
   "execution_count": null,
   "metadata": {},
   "outputs": [],
   "source": [
    "# --- Data manipulations --- #\n",
    "\n",
    "# Retrieve relevant data from duckdb.\n",
    "EXP_DATA = pd.DataFrame()\n",
    "for idx, id in enumerate(EXPERIMENT_ID):\n",
    "    EXP_DATA = pd.concat([EXP_DATA, retrieve_experiment_df(con, id, EXPERIMENT_START_TIME[idx])])\n",
    "\n",
    "# Remove superfluous entries from dataframe.\n",
    "EXP_DATA = filterByEventIds(EXP_DATA, EVENT_IDS)"
   ]
  },
  {
   "cell_type": "code",
   "execution_count": null,
   "metadata": {},
   "outputs": [],
   "source": [
    "# --- Storage extraction --- #\n",
    "storage_metrics = get_storage_metrics(STORAGE_TYPE, EXP_DATA, STORAGE_PATH)\n",
    "storage_metrics.fetch_metrics()"
   ]
  },
  {
   "cell_type": "code",
   "execution_count": null,
   "metadata": {},
   "outputs": [],
   "source": [
    "# --- Plot the data --- #\n",
    "sns.set(rc={'figure.figsize':(18,6)})\n",
    "sns.set(font_scale=1.2)\n",
    "\n",
    "sns.lineplot(x='event_id', y=METRIC, hue='exp_name', data=storage_metrics.get_df())\n",
    "plt.legend(loc='upper left')\n",
    "plt.ylabel(storage_metrics.get_label(METRIC))\n",
    "plt.xlabel(\"Event ID\")"
   ]
  }
 ],
 "metadata": {
  "kernelspec": {
   "display_name": "Python 3",
   "language": "python",
   "name": "python3"
  },
  "language_info": {
   "codemirror_mode": {
    "name": "ipython",
    "version": 3
   },
   "file_extension": ".py",
   "mimetype": "text/x-python",
   "name": "python",
   "nbconvert_exporter": "python",
   "pygments_lexer": "ipython3",
   "version": "3.9.7"
  },
  "orig_nbformat": 4
 },
 "nbformat": 4,
 "nbformat_minor": 2
}
